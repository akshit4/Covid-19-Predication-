{
 "cells": [
  {
   "cell_type": "code",
   "execution_count": 1,
   "metadata": {
    "_cell_guid": "b1076dfc-b9ad-4769-8c92-a6c4dae69d19",
    "_uuid": "8f2839f25d086af736a60e9eeb907d3b93b6e0e5",
    "execution": {
     "iopub.execute_input": "2021-02-25T14:39:34.266925Z",
     "iopub.status.busy": "2021-02-25T14:39:34.266179Z",
     "iopub.status.idle": "2021-02-25T14:39:40.597797Z",
     "shell.execute_reply": "2021-02-25T14:39:40.596313Z"
    },
    "papermill": {
     "duration": 6.354723,
     "end_time": "2021-02-25T14:39:40.598050",
     "exception": false,
     "start_time": "2021-02-25T14:39:34.243327",
     "status": "completed"
    },
    "tags": []
   },
   "outputs": [],
   "source": [
    "import cv2\n",
    "import os\n",
    "from tqdm import tqdm\n",
    "import matplotlib.pyplot as plt\n",
    "import numpy as np\n",
    "import glob\n",
    "from tensorflow.keras.preprocessing.image import ImageDataGenerator\n",
    "from tensorflow.keras.applications import *\n",
    "from tensorflow.keras.layers import *\n",
    "from tensorflow.keras.models import *\n",
    "from tensorflow.keras.optimizers import Adam\n",
    "from tensorflow.keras.utils import to_categorical\n",
    "from sklearn.preprocessing import LabelEncoder\n",
    "from sklearn.model_selection import train_test_split\n",
    "from sklearn.metrics import *\n",
    "from tensorflow.keras.callbacks import *"
   ]
  },
  {
   "cell_type": "code",
   "execution_count": 2,
   "metadata": {
    "execution": {
     "iopub.execute_input": "2021-02-25T14:39:40.633728Z",
     "iopub.status.busy": "2021-02-25T14:39:40.633006Z",
     "iopub.status.idle": "2021-02-25T14:39:43.318235Z",
     "shell.execute_reply": "2021-02-25T14:39:43.316716Z"
    },
    "papermill": {
     "duration": 2.704906,
     "end_time": "2021-02-25T14:39:43.318396",
     "exception": false,
     "start_time": "2021-02-25T14:39:40.613490",
     "status": "completed"
    },
    "tags": []
   },
   "outputs": [],
   "source": [
    "imagePaths = []\n",
    "for dirname, _, filenames in os.walk('COVID-19 Radiography Database'):\n",
    "    for filename in filenames:\n",
    "        if (filename[-3:] == 'png'):\n",
    "            imagePaths.append(os.path.join(dirname, filename))"
   ]
  },
  {
   "cell_type": "code",
   "execution_count": 3,
   "metadata": {
    "execution": {
     "iopub.execute_input": "2021-02-25T14:39:43.357961Z",
     "iopub.status.busy": "2021-02-25T14:39:43.357221Z",
     "iopub.status.idle": "2021-02-25T14:41:18.456220Z",
     "shell.execute_reply": "2021-02-25T14:41:18.455342Z"
    },
    "papermill": {
     "duration": 95.122112,
     "end_time": "2021-02-25T14:41:18.456371",
     "exception": false,
     "start_time": "2021-02-25T14:39:43.334259",
     "status": "completed"
    },
    "tags": []
   },
   "outputs": [
    {
     "name": "stderr",
     "output_type": "stream",
     "text": [
      "100%|██████████████████████████████████████████████████████████████████████████████| 3886/3886 [01:21<00:00, 47.88it/s]\n"
     ]
    }
   ],
   "source": [
    "imgSize = 225\n",
    "\n",
    "\n",
    "X = []\n",
    "Y = []\n",
    "hmap = {'COVID':'COVID','NORMAL':'NORMAL','Viral Pneumonia':'Viral Pneumonia'}\n",
    "for imagePath in tqdm(imagePaths):\n",
    "    label = imagePath.split(os.path.sep)[-2]\n",
    "    image = cv2.imread(imagePath)\n",
    "    image = cv2.cvtColor(image, cv2.COLOR_BGR2RGB)\n",
    "    image = cv2.resize(image, (imgSize, imgSize))\n",
    "\n",
    "    X.append(image)\n",
    "    Y.append(hmap[label])"
   ]
  },
  {
   "cell_type": "code",
   "execution_count": 4,
   "metadata": {
    "execution": {
     "iopub.execute_input": "2021-02-25T14:41:19.025467Z",
     "iopub.status.busy": "2021-02-25T14:41:19.024308Z",
     "iopub.status.idle": "2021-02-25T14:41:19.028103Z",
     "shell.execute_reply": "2021-02-25T14:41:19.026107Z"
    },
    "papermill": {
     "duration": 0.290085,
     "end_time": "2021-02-25T14:41:19.028303",
     "exception": false,
     "start_time": "2021-02-25T14:41:18.738218",
     "status": "completed"
    },
    "tags": []
   },
   "outputs": [
    {
     "name": "stdout",
     "output_type": "stream",
     "text": [
      "Covid-19: 1200\n",
      "Normal: 1341\n",
      "Viral Pneumonia:  1345\n"
     ]
    }
   ],
   "source": [
    "print('Covid-19:',Y.count('COVID'))\n",
    "print('Normal:',Y.count('NORMAL'))\n",
    "print('Viral Pneumonia: ',Y.count('Viral Pneumonia'))"
   ]
  },
  {
   "cell_type": "code",
   "execution_count": 5,
   "metadata": {
    "execution": {
     "iopub.execute_input": "2021-02-25T14:41:19.623296Z",
     "iopub.status.busy": "2021-02-25T14:41:19.622451Z",
     "iopub.status.idle": "2021-02-25T14:41:19.628764Z",
     "shell.execute_reply": "2021-02-25T14:41:19.628303Z"
    },
    "papermill": {
     "duration": 0.308229,
     "end_time": "2021-02-25T14:41:19.628913",
     "exception": false,
     "start_time": "2021-02-25T14:41:19.320684",
     "status": "completed"
    },
    "tags": []
   },
   "outputs": [],
   "source": [
    "le = LabelEncoder()\n",
    "Y = le.fit_transform(Y)\n",
    "Y = to_categorical(Y)"
   ]
  },
  {
   "cell_type": "code",
   "execution_count": 6,
   "metadata": {
    "execution": {
     "iopub.execute_input": "2021-02-25T14:41:20.192437Z",
     "iopub.status.busy": "2021-02-25T14:41:20.191495Z",
     "iopub.status.idle": "2021-02-25T14:41:20.228892Z",
     "shell.execute_reply": "2021-02-25T14:41:20.228315Z"
    },
    "papermill": {
     "duration": 0.325904,
     "end_time": "2021-02-25T14:41:20.229040",
     "exception": false,
     "start_time": "2021-02-25T14:41:19.903136",
     "status": "completed"
    },
    "tags": []
   },
   "outputs": [],
   "source": [
    "(trainX, testX, trainY, testY) = train_test_split(X, Y, test_size=0.40, stratify=Y, random_state=None)"
   ]
  },
  {
   "cell_type": "code",
   "execution_count": 7,
   "metadata": {
    "execution": {
     "iopub.execute_input": "2021-02-25T14:41:20.812076Z",
     "iopub.status.busy": "2021-02-25T14:41:20.811381Z",
     "iopub.status.idle": "2021-02-25T14:41:30.580720Z",
     "shell.execute_reply": "2021-02-25T14:41:30.579766Z"
    },
    "papermill": {
     "duration": 10.050114,
     "end_time": "2021-02-25T14:41:30.580893",
     "exception": false,
     "start_time": "2021-02-25T14:41:20.530779",
     "status": "completed"
    },
    "tags": []
   },
   "outputs": [],
   "source": [
    "trainX = np.array(trainX).astype('float16')/255\n",
    "\n",
    "testX = np.array(testX).astype('float16')/255"
   ]
  },
  {
   "cell_type": "code",
   "execution_count": 8,
   "metadata": {
    "execution": {
     "iopub.execute_input": "2021-02-25T14:41:31.158978Z",
     "iopub.status.busy": "2021-02-25T14:41:31.156977Z",
     "iopub.status.idle": "2021-02-25T14:41:31.162473Z",
     "shell.execute_reply": "2021-02-25T14:41:31.161878Z"
    },
    "papermill": {
     "duration": 0.303307,
     "end_time": "2021-02-25T14:41:31.162628",
     "exception": false,
     "start_time": "2021-02-25T14:41:30.859321",
     "status": "completed"
    },
    "tags": []
   },
   "outputs": [
    {
     "data": {
      "text/plain": [
       "<keras.preprocessing.image.ImageDataGenerator at 0x213f7689640>"
      ]
     },
     "execution_count": 8,
     "metadata": {},
     "output_type": "execute_result"
    }
   ],
   "source": [
    "trainAug = ImageDataGenerator()\n",
    "trainAug"
   ]
  },
  {
   "cell_type": "code",
   "execution_count": 9,
   "metadata": {
    "execution": {
     "iopub.execute_input": "2021-02-25T14:41:31.736001Z",
     "iopub.status.busy": "2021-02-25T14:41:31.734176Z",
     "iopub.status.idle": "2021-02-25T14:41:31.736663Z",
     "shell.execute_reply": "2021-02-25T14:41:31.737180Z"
    },
    "papermill": {
     "duration": 0.291994,
     "end_time": "2021-02-25T14:41:31.737333",
     "exception": false,
     "start_time": "2021-02-25T14:41:31.445339",
     "status": "completed"
    },
    "tags": []
   },
   "outputs": [],
   "source": [
    "best_val_acc = 0\n",
    "best_train_acc = 0\n",
    "def saveModel(epoch,logs):\n",
    "    val_acc = logs['val_accuracy']\n",
    "    train_acc = logs['accuracy']\n",
    "    global best_val_acc\n",
    "    global best_train_acc\n",
    "\n",
    "    if val_acc > best_val_acc:\n",
    "        best_val_acc = val_acc\n",
    "        model.save('VGG-16.h5')\n",
    "    elif val_acc == best_val_acc:\n",
    "        if train_acc > best_train_acc:\n",
    "            best_train_acc= train_acc\n",
    "            model.save('VGG-16.h5')"
   ]
  },
  {
   "cell_type": "code",
   "execution_count": 10,
   "metadata": {
    "execution": {
     "iopub.execute_input": "2021-02-25T14:41:32.300359Z",
     "iopub.status.busy": "2021-02-25T14:41:32.299634Z",
     "iopub.status.idle": "2021-02-25T14:41:36.376535Z",
     "shell.execute_reply": "2021-02-25T14:41:36.375988Z"
    },
    "papermill": {
     "duration": 4.363139,
     "end_time": "2021-02-25T14:41:36.376678",
     "exception": false,
     "start_time": "2021-02-25T14:41:32.013539",
     "status": "completed"
    },
    "tags": []
   },
   "outputs": [],
   "source": [
    "baseModel = VGG16(weights=\"imagenet\", include_top=False, input_tensor=Input(shape=(imgSize, imgSize, 3)))\n",
    "headModel = baseModel.output\n",
    "headModel = Flatten(name=\"flatten\")(headModel)\n",
    "headModel = Dense(64, activation=\"relu\")(headModel)\n",
    "headModel = Dropout(0.5)(headModel)\n",
    "headModel = Dense(3, activation=\"softmax\")(headModel)\n",
    "model = Model(inputs=baseModel.input, outputs=headModel)\n",
    "for layer in baseModel.layers:\n",
    "    layer.trainable = False"
   ]
  },
  {
   "cell_type": "code",
   "execution_count": 11,
   "metadata": {
    "execution": {
     "iopub.execute_input": "2021-02-25T14:41:36.948578Z",
     "iopub.status.busy": "2021-02-25T14:41:36.946103Z",
     "iopub.status.idle": "2021-02-25T14:41:36.961264Z",
     "shell.execute_reply": "2021-02-25T14:41:36.961724Z"
    },
    "papermill": {
     "duration": 0.302601,
     "end_time": "2021-02-25T14:41:36.961941",
     "exception": false,
     "start_time": "2021-02-25T14:41:36.659340",
     "status": "completed"
    },
    "scrolled": false,
    "tags": []
   },
   "outputs": [
    {
     "name": "stdout",
     "output_type": "stream",
     "text": [
      "Model: \"model\"\n",
      "_________________________________________________________________\n",
      " Layer (type)                Output Shape              Param #   \n",
      "=================================================================\n",
      " input_1 (InputLayer)        [(None, 225, 225, 3)]     0         \n",
      "                                                                 \n",
      " block1_conv1 (Conv2D)       (None, 225, 225, 64)      1792      \n",
      "                                                                 \n",
      " block1_conv2 (Conv2D)       (None, 225, 225, 64)      36928     \n",
      "                                                                 \n",
      " block1_pool (MaxPooling2D)  (None, 112, 112, 64)      0         \n",
      "                                                                 \n",
      " block2_conv1 (Conv2D)       (None, 112, 112, 128)     73856     \n",
      "                                                                 \n",
      " block2_conv2 (Conv2D)       (None, 112, 112, 128)     147584    \n",
      "                                                                 \n",
      " block2_pool (MaxPooling2D)  (None, 56, 56, 128)       0         \n",
      "                                                                 \n",
      " block3_conv1 (Conv2D)       (None, 56, 56, 256)       295168    \n",
      "                                                                 \n",
      " block3_conv2 (Conv2D)       (None, 56, 56, 256)       590080    \n",
      "                                                                 \n",
      " block3_conv3 (Conv2D)       (None, 56, 56, 256)       590080    \n",
      "                                                                 \n",
      " block3_pool (MaxPooling2D)  (None, 28, 28, 256)       0         \n",
      "                                                                 \n",
      " block4_conv1 (Conv2D)       (None, 28, 28, 512)       1180160   \n",
      "                                                                 \n",
      " block4_conv2 (Conv2D)       (None, 28, 28, 512)       2359808   \n",
      "                                                                 \n",
      " block4_conv3 (Conv2D)       (None, 28, 28, 512)       2359808   \n",
      "                                                                 \n",
      " block4_pool (MaxPooling2D)  (None, 14, 14, 512)       0         \n",
      "                                                                 \n",
      " block5_conv1 (Conv2D)       (None, 14, 14, 512)       2359808   \n",
      "                                                                 \n",
      " block5_conv2 (Conv2D)       (None, 14, 14, 512)       2359808   \n",
      "                                                                 \n",
      " block5_conv3 (Conv2D)       (None, 14, 14, 512)       2359808   \n",
      "                                                                 \n",
      " block5_pool (MaxPooling2D)  (None, 7, 7, 512)         0         \n",
      "                                                                 \n",
      " flatten (Flatten)           (None, 25088)             0         \n",
      "                                                                 \n",
      " dense (Dense)               (None, 64)                1605696   \n",
      "                                                                 \n",
      " dropout (Dropout)           (None, 64)                0         \n",
      "                                                                 \n",
      " dense_1 (Dense)             (None, 3)                 195       \n",
      "                                                                 \n",
      "=================================================================\n",
      "Total params: 16,320,579\n",
      "Trainable params: 1,605,891\n",
      "Non-trainable params: 14,714,688\n",
      "_________________________________________________________________\n"
     ]
    }
   ],
   "source": [
    "model.summary()"
   ]
  },
  {
   "cell_type": "code",
   "execution_count": 12,
   "metadata": {
    "scrolled": false
   },
   "outputs": [
    {
     "data": {
      "image/png": "[encoded data removed]",
      "text/plain": [
       "<PIL.Image.Image image mode=RGBA size=1353x931 at 0x21385DE08B0>"
      ]
     },
     "execution_count": 12,
     "metadata": {},
     "output_type": "execute_result"
    }
   ],
   "source": [
    "import visualkeras\n",
    "from collections import defaultdict\n",
    "from tensorflow.keras import layers\n",
    "color_map = defaultdict(dict)\n",
    "color_map[layers.Conv2D]['fill'] = 'orange'\n",
    "color_map[layers.MaxPooling2D]['fill'] = 'red'\n",
    "color_map[layers.Dense]['fill'] = 'black'\n",
    "color_map[layers.Flatten]['fill'] = 'teal'\n",
    "visualkeras.layered_view(model, legend=True,color_map=color_map,draw_volume=False) "
   ]
  },
  {
   "cell_type": "code",
   "execution_count": 17,
   "metadata": {
    "execution": {
     "iopub.execute_input": "2021-02-25T14:41:37.616074Z",
     "iopub.status.busy": "2021-02-25T14:41:37.612028Z",
     "iopub.status.idle": "2021-02-25T14:44:48.269742Z",
     "shell.execute_reply": "2021-02-25T14:44:48.270337Z"
    },
    "papermill": {
     "duration": 190.950103,
     "end_time": "2021-02-25T14:44:48.270511",
     "exception": false,
     "start_time": "2021-02-25T14:41:37.320408",
     "status": "completed"
    },
    "scrolled": false,
    "tags": []
   },
   "outputs": [
    {
     "name": "stdout",
     "output_type": "stream",
     "text": [
      "Epoch 1/20\n",
      "72/72 [==============================] - 105s 1s/step - loss: 0.5099 - accuracy: 0.8060 - val_loss: 0.2525 - val_accuracy: 0.9151\n",
      "Epoch 2/20\n",
      "72/72 [==============================] - 103s 1s/step - loss: 0.2607 - accuracy: 0.9139 - val_loss: 0.2123 - val_accuracy: 0.9241\n",
      "Epoch 3/20\n",
      "72/72 [==============================] - 103s 1s/step - loss: 0.2228 - accuracy: 0.9261 - val_loss: 0.1891 - val_accuracy: 0.9344\n",
      "Epoch 4/20\n",
      "72/72 [==============================] - 103s 1s/step - loss: 0.2008 - accuracy: 0.9426 - val_loss: 0.1738 - val_accuracy: 0.9415\n",
      "Epoch 5/20\n",
      "72/72 [==============================] - 124s 2s/step - loss: 0.1727 - accuracy: 0.9426 - val_loss: 0.1775 - val_accuracy: 0.9415\n",
      "Epoch 6/20\n",
      "72/72 [==============================] - 118s 2s/step - loss: 0.1723 - accuracy: 0.9404 - val_loss: 0.1667 - val_accuracy: 0.9389\n",
      "Epoch 7/20\n",
      "72/72 [==============================] - 103s 1s/step - loss: 0.1652 - accuracy: 0.9456 - val_loss: 0.1642 - val_accuracy: 0.9428\n",
      "Epoch 8/20\n",
      "72/72 [==============================] - 102s 1s/step - loss: 0.1478 - accuracy: 0.9508 - val_loss: 0.1705 - val_accuracy: 0.9389\n",
      "Epoch 9/20\n",
      "72/72 [==============================] - 103s 1s/step - loss: 0.1406 - accuracy: 0.9491 - val_loss: 0.1842 - val_accuracy: 0.9331\n",
      "Epoch 10/20\n",
      "72/72 [==============================] - 102s 1s/step - loss: 0.1325 - accuracy: 0.9552 - val_loss: 0.1653 - val_accuracy: 0.9395\n",
      "Epoch 11/20\n",
      "72/72 [==============================] - 104s 1s/step - loss: 0.1237 - accuracy: 0.9591 - val_loss: 0.1608 - val_accuracy: 0.9415\n",
      "Epoch 12/20\n",
      "72/72 [==============================] - 103s 1s/step - loss: 0.1177 - accuracy: 0.9604 - val_loss: 0.1582 - val_accuracy: 0.9486\n",
      "Epoch 13/20\n",
      "72/72 [==============================] - 103s 1s/step - loss: 0.1128 - accuracy: 0.9600 - val_loss: 0.1659 - val_accuracy: 0.9434\n",
      "Epoch 14/20\n",
      "72/72 [==============================] - 106s 1s/step - loss: 0.1106 - accuracy: 0.9604 - val_loss: 0.1535 - val_accuracy: 0.9460\n",
      "Epoch 15/20\n",
      "72/72 [==============================] - 103s 1s/step - loss: 0.1046 - accuracy: 0.9661 - val_loss: 0.1652 - val_accuracy: 0.9428\n",
      "Epoch 16/20\n",
      "72/72 [==============================] - 103s 1s/step - loss: 0.0998 - accuracy: 0.9626 - val_loss: 0.1561 - val_accuracy: 0.9498\n",
      "Epoch 17/20\n",
      "72/72 [==============================] - 112s 2s/step - loss: 0.0972 - accuracy: 0.9665 - val_loss: 0.1820 - val_accuracy: 0.9357\n",
      "Epoch 18/20\n",
      "72/72 [==============================] - 103s 1s/step - loss: 0.0978 - accuracy: 0.9630 - val_loss: 0.1697 - val_accuracy: 0.9415\n",
      "Epoch 19/20\n",
      "72/72 [==============================] - 102s 1s/step - loss: 0.0938 - accuracy: 0.9643 - val_loss: 0.1571 - val_accuracy: 0.9473\n",
      "Epoch 20/20\n",
      "72/72 [==============================] - 107s 1s/step - loss: 0.0880 - accuracy: 0.9709 - val_loss: 0.1561 - val_accuracy: 0.9466\n"
     ]
    }
   ],
   "source": [
    "EPOCHS = 20\n",
    "BS = 32\n",
    "opt = Adam()\n",
    "model.compile(optimizer='adam', loss='categorical_crossentropy', metrics=[\"accuracy\"])\n",
    "H = model.fit(\n",
    "    trainAug.flow(trainX, trainY, batch_size=BS),\n",
    "    steps_per_epoch=len(trainX) // BS,\n",
    "    validation_data=(testX, testY),\n",
    "    validation_steps=len(testX) // BS,\n",
    "    callbacks= [LambdaCallback(on_epoch_end=saveModel),],\n",
    "    epochs=EPOCHS)"
   ]
  },
  {
   "cell_type": "code",
   "execution_count": 18,
   "metadata": {
    "execution": {
     "iopub.execute_input": "2021-02-25T14:44:49.900498Z",
     "iopub.status.busy": "2021-02-25T14:44:49.898073Z",
     "iopub.status.idle": "2021-02-25T14:44:49.903349Z",
     "shell.execute_reply": "2021-02-25T14:44:49.902633Z"
    },
    "papermill": {
     "duration": 0.840758,
     "end_time": "2021-02-25T14:44:49.903516",
     "exception": false,
     "start_time": "2021-02-25T14:44:49.062758",
     "status": "completed"
    },
    "tags": []
   },
   "outputs": [
    {
     "name": "stdout",
     "output_type": "stream",
     "text": [
      "3886\n"
     ]
    }
   ],
   "source": [
    "print(len(Y))"
   ]
  },
  {
   "cell_type": "code",
   "execution_count": 22,
   "metadata": {
    "execution": {
     "iopub.execute_input": "2021-02-25T14:44:51.521066Z",
     "iopub.status.busy": "2021-02-25T14:44:51.513682Z",
     "iopub.status.idle": "2021-02-25T14:44:52.082341Z",
     "shell.execute_reply": "2021-02-25T14:44:52.082807Z"
    },
    "papermill": {
     "duration": 1.387962,
     "end_time": "2021-02-25T14:44:52.082993",
     "exception": false,
     "start_time": "2021-02-25T14:44:50.695031",
     "status": "completed"
    },
    "tags": []
   },
   "outputs": [
    {
     "data": {
      "image/png": "[encoded data removed]",
      "text/plain": [
       "<Figure size 1728x720 with 2 Axes>"
      ]
     },
     "metadata": {
      "needs_background": "light"
     },
     "output_type": "display_data"
    }
   ],
   "source": [
    "from sklearn.metrics import accuracy_score\n",
    "f, (ax1, ax2) = plt.subplots(1, 2, figsize=(24, 10))\n",
    "t = f.suptitle('VGG16 Performance', fontsize=16,fontweight='bold')\n",
    "f.subplots_adjust(top=0.9, wspace=0.1)\n",
    "\n",
    "max_epoch = len(H.history['accuracy'])+1\n",
    "epoch_list = list(range(1,max_epoch))\n",
    "ax1.plot(epoch_list, H.history['accuracy'], label='Train Accuracy')\n",
    "ax1.plot(epoch_list, H.history['val_accuracy'], label='Validation Accuracy')\n",
    "ax1.set_xticks(np.arange(1, max_epoch, 1))\n",
    "ax1.set_ylabel('Accuracy Value',fontsize=14,fontweight='bold')\n",
    "ax1.set_xlabel('Epoch',fontsize=14,fontweight='bold')\n",
    "ax1.set_title('Accuracy', fontsize=14,fontweight='bold')\n",
    "l1 = ax1.legend(loc=\"best\")\n",
    "\n",
    "ax2.plot(epoch_list, H.history['loss'], label='Train Loss')\n",
    "ax2.plot(epoch_list, H.history['val_loss'], label='Validation Loss')\n",
    "ax2.set_xticks(np.arange(1, max_epoch, 1))\n",
    "ax2.set_ylabel('Loss Value',fontsize=14,fontweight='bold')\n",
    "ax2.set_xlabel('Epoch',fontsize=14,fontweight='bold')\n",
    "ax2.set_title('Loss',fontsize=14,fontweight='bold')\n",
    "l2 = ax2.legend(loc=\"best\")"
   ]
  },
  {
   "cell_type": "code",
   "execution_count": 20,
   "metadata": {
    "execution": {
     "iopub.execute_input": "2021-02-25T14:44:53.701248Z",
     "iopub.status.busy": "2021-02-25T14:44:53.670620Z",
     "iopub.status.idle": "2021-02-25T14:44:58.852101Z",
     "shell.execute_reply": "2021-02-25T14:44:58.852731Z"
    },
    "papermill": {
     "duration": 5.981005,
     "end_time": "2021-02-25T14:44:58.852980",
     "exception": false,
     "start_time": "2021-02-25T14:44:52.871975",
     "status": "completed"
    },
    "tags": []
   },
   "outputs": [
    {
     "name": "stdout",
     "output_type": "stream",
     "text": [
      "                 precision    recall  f1-score   support\n",
      "\n",
      "          COVID    0.97669   0.96042   0.96849       480\n",
      "         NORMAL    0.95283   0.94041   0.94658       537\n",
      "Viral Pneumonia    0.92405   0.94981   0.93676       538\n",
      "\n",
      "       accuracy                        0.94984      1555\n",
      "      macro avg    0.95119   0.95021   0.95061      1555\n",
      "   weighted avg    0.95024   0.94984   0.94994      1555\n",
      "\n"
     ]
    }
   ],
   "source": [
    "model= load_model('model.h5')\n",
    "\n",
    "predIdxs = model.predict(testX, batch_size=BS)\n",
    "predIdxs = np.argmax(predIdxs, axis=1)\n",
    "print(classification_report(testY.argmax(axis=1), predIdxs, target_names=le.classes_, digits = 5))"
   ]
  },
  {
   "cell_type": "code",
   "execution_count": 21,
   "metadata": {
    "execution": {
     "iopub.execute_input": "2021-02-25T14:45:00.482326Z",
     "iopub.status.busy": "2021-02-25T14:45:00.481557Z",
     "iopub.status.idle": "2021-02-25T14:45:05.116422Z",
     "shell.execute_reply": "2021-02-25T14:45:05.115183Z"
    },
    "papermill": {
     "duration": 5.452243,
     "end_time": "2021-02-25T14:45:05.116592",
     "exception": false,
     "start_time": "2021-02-25T14:44:59.664349",
     "status": "completed"
    },
    "tags": []
   },
   "outputs": [
    {
     "data": {
      "text/plain": [
       "<function matplotlib.pyplot.show(close=None, block=None)>"
      ]
     },
     "execution_count": 21,
     "metadata": {},
     "output_type": "execute_result"
    },
    {
     "data": {
      "image/png": "[encoded data removed]",
      "text/plain": [
       "<Figure size 432x288 with 2 Axes>"
      ]
     },
     "metadata": {
      "needs_background": "light"
     },
     "output_type": "display_data"
    }
   ],
   "source": [
    "from sklearn.metrics import classification_report, confusion_matrix, accuracy_score\n",
    "import sklearn.metrics as metrics\n",
    "import pandas as pd\n",
    "import seaborn as sns\n",
    "plt.figure()\n",
    "\n",
    "ax = plt.subplot()\n",
    "\n",
    "ax.set_title('Confusion Matrix')\n",
    "pred = model.predict(testX)\n",
    "pred=np.argmax(pred,axis=1)\n",
    "# pred = model.predict_classes(X_test)\n",
    "Y_TEST = np.argmax(testY, axis =1)\n",
    "cm = metrics.confusion_matrix(Y_TEST,pred)\n",
    "classes=['normal', 'other pneumonia', 'covid19']\n",
    "sns.heatmap(cm, annot=True,xticklabels=classes, yticklabels=classes,cmap='Reds')\n",
    "\n",
    "plt.xlabel('Predicted')\n",
    "plt.ylabel('Actual')\n",
    "plt.show"
   ]
  }
 ],
 "metadata": {
  "kernelspec": {
   "display_name": "Python 3 (ipykernel)",
   "language": "python",
   "name": "python3"
  },
  "language_info": {
   "codemirror_mode": {
    "name": "ipython",
    "version": 3
   },
   "file_extension": ".py",
   "mimetype": "text/x-python",
   "name": "python",
   "nbconvert_exporter": "python",
   "pygments_lexer": "ipython3",
   "version": "3.9.7"
  },
  "papermill": {
   "default_parameters": {},
   "duration": 360.127907,
   "end_time": "2021-02-25T14:45:28.767811",
   "environment_variables": {},
   "exception": null,
   "input_path": "__notebook__.ipynb",
   "output_path": "__notebook__.ipynb",
   "parameters": {},
   "start_time": "2021-02-25T14:39:28.639904",
   "version": "2.2.2"
  }
 },
 "nbformat": 4,
 "nbformat_minor": 4
}
